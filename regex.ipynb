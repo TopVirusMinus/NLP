{
 "cells": [
  {
   "cell_type": "code",
   "execution_count": 1,
   "metadata": {},
   "outputs": [],
   "source": [
    "import re"
   ]
  },
  {
   "cell_type": "code",
   "execution_count": 4,
   "metadata": {},
   "outputs": [],
   "source": [
    "\n",
    "# \\d matched any digit\n",
    "# \\d\\d matches exactly 2 subsequent digits  (you can repeat as much as you like)\n",
    "# \\d\\d\\d\\d\\d\\d\\d\\d\\d\\d\\d  matches phone number (10 digits)\n",
    "# \\d{10} short hand for 10 digits\n",
    "# brackets () needs to be escaped with \\ as they have meaning in regex\n",
    "# | operator means or"
   ]
  },
  {
   "cell_type": "code",
   "execution_count": 5,
   "metadata": {},
   "outputs": [],
   "source": [
    "chat1 = 'codebasics: you ask lot of questions 😠  1235678912, abc@xyz.com'\n",
    "chat2 = 'codebasics: here it is: (123)-567-8912, abc@xyz.com'\n",
    "chat3 = 'codebasics: yes, phone: 1235678912 email: abc@xyz.com'"
   ]
  },
  {
   "cell_type": "code",
   "execution_count": 32,
   "metadata": {},
   "outputs": [
    {
     "data": {
      "text/plain": [
       "['1235678912']"
      ]
     },
     "execution_count": 32,
     "metadata": {},
     "output_type": "execute_result"
    }
   ],
   "source": [
    "pattern1 = '\\d{10}'\n",
    "re.findall(pattern1, chat1)"
   ]
  },
  {
   "cell_type": "code",
   "execution_count": 33,
   "metadata": {},
   "outputs": [
    {
     "data": {
      "text/plain": [
       "['(123)-567-8912']"
      ]
     },
     "execution_count": 33,
     "metadata": {},
     "output_type": "execute_result"
    }
   ],
   "source": [
    "pattern2 = '\\(\\d{3}\\)-\\d{3}-\\d{4}'\n",
    "re.findall(pattern2, chat2)"
   ]
  },
  {
   "cell_type": "code",
   "execution_count": 34,
   "metadata": {},
   "outputs": [
    {
     "name": "stdout",
     "output_type": "stream",
     "text": [
      "['1235678912']\n",
      "['(123)-567-8912']\n"
     ]
    }
   ],
   "source": [
    "unified_pattern = pattern1+\"|\"+pattern2         # '\\d{10}|\\(\\d{3}\\)-\\d{3}-\\d{4}'\n",
    "match1 = re.findall(unified_pattern, chat1)\n",
    "match2 = re.findall(unified_pattern, chat2)\n",
    "\n",
    "print(match1)\n",
    "print(match2)"
   ]
  },
  {
   "cell_type": "code",
   "execution_count": null,
   "metadata": {},
   "outputs": [],
   "source": []
  }
 ],
 "metadata": {
  "kernelspec": {
   "display_name": "Python 3",
   "language": "python",
   "name": "python3"
  },
  "language_info": {
   "codemirror_mode": {
    "name": "ipython",
    "version": 3
   },
   "file_extension": ".py",
   "mimetype": "text/x-python",
   "name": "python",
   "nbconvert_exporter": "python",
   "pygments_lexer": "ipython3",
   "version": "3.8.8"
  },
  "orig_nbformat": 4,
  "vscode": {
   "interpreter": {
    "hash": "7c7b6dd4ff29e9d3126749e1d4e9a9e9a4efe46e425a295f98cc90e2c23a3ec5"
   }
  }
 },
 "nbformat": 4,
 "nbformat_minor": 2
}
