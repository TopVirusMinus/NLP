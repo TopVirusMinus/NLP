{
 "cells": [
  {
   "cell_type": "code",
   "execution_count": 1,
   "metadata": {},
   "outputs": [],
   "source": [
    "import re"
   ]
  },
  {
   "cell_type": "code",
   "execution_count": 94,
   "metadata": {},
   "outputs": [],
   "source": [
    "# *   0 or more\n",
    "# +   1 or more\n",
    "# .   any character\n",
    "\n",
    "# \\ means stop when you find what comes after \\\n",
    "\n",
    "# \\d matched any digit\n",
    "# \\d\\d matches exactly 2 subsequent digits  (you can repeat as much as you like)\n",
    "# \\d\\d\\d\\d\\d\\d\\d\\d\\d\\d\\d  matches phone number (10 digits)\n",
    "# \\d{10} short hand for 10 digits\n",
    "\n",
    "# \\n new line character\n",
    "\n",
    "# brackets () needs to be escaped with \\ as they have meaning in regex\n",
    "# | operator means or\n",
    "\n",
    "# [a-z]  single character in the range from a to z\n",
    "# [a-z0-9A-Z] single character in the range from a-z or 0-9 or A-Z\n",
    "# [a-z]* all characters in the range a to z\n",
    "\n",
    "# ^ means not\n",
    "# [^\\d] match any non digit\n",
    "# ( your-pattern ) anything between the ( ) will be the part of the pattern that is returned"
   ]
  },
  {
   "cell_type": "code",
   "execution_count": 69,
   "metadata": {},
   "outputs": [],
   "source": [
    "def get_pattern_match(pattern, text):\n",
    "    matches = re.findall(pattern, text)\n",
    "    return matches"
   ]
  },
  {
   "cell_type": "code",
   "execution_count": 51,
   "metadata": {},
   "outputs": [],
   "source": [
    "chat1 = 'codebasics: you ask lot of questions 😠  1235678912, abc@xyz.com'\n",
    "chat2 = 'codebasics: here it is: (123)-567-8912, abc@xyz.com'\n",
    "chat3 = 'codebasics: yes, phone: 1235678912 email: abc@xyz.com'"
   ]
  },
  {
   "cell_type": "code",
   "execution_count": 52,
   "metadata": {},
   "outputs": [
    {
     "data": {
      "text/plain": [
       "['1235678912']"
      ]
     },
     "execution_count": 52,
     "metadata": {},
     "output_type": "execute_result"
    }
   ],
   "source": [
    "phone_pattern_1 = '\\d{10}'\n",
    "re.findall(phone_pattern_1, chat1)"
   ]
  },
  {
   "cell_type": "code",
   "execution_count": 53,
   "metadata": {},
   "outputs": [
    {
     "data": {
      "text/plain": [
       "['(123)-567-8912']"
      ]
     },
     "execution_count": 53,
     "metadata": {},
     "output_type": "execute_result"
    }
   ],
   "source": [
    "phone_pattern_2 = '\\(\\d{3}\\)-\\d{3}-\\d{4}'\n",
    "re.findall(phone_pattern_2, chat2)"
   ]
  },
  {
   "cell_type": "code",
   "execution_count": 54,
   "metadata": {},
   "outputs": [
    {
     "name": "stdout",
     "output_type": "stream",
     "text": [
      "['1235678912']\n",
      "['(123)-567-8912']\n"
     ]
    }
   ],
   "source": [
    "unified_phone_pattern = phone_pattern_1+\"|\"+phone_pattern_2         # '\\d{10}|\\(\\d{3}\\)-\\d{3}-\\d{4}'\n",
    "phone_match_1 = re.findall(unified_phone_pattern, chat1)\n",
    "phone_match_2 = re.findall(unified_phone_pattern, chat2)\n",
    "\n",
    "print(phone_match_1)\n",
    "print(phone_match_2)"
   ]
  },
  {
   "cell_type": "code",
   "execution_count": 55,
   "metadata": {},
   "outputs": [
    {
     "data": {
      "text/plain": [
       "['abc@xyz.com']"
      ]
     },
     "execution_count": 55,
     "metadata": {},
     "output_type": "execute_result"
    }
   ],
   "source": [
    "email_pattern = '[a-z0-9A-Z_]*@[a-z]*.com'\n",
    "re.findall(email_pattern, chat1)"
   ]
  },
  {
   "cell_type": "code",
   "execution_count": 56,
   "metadata": {},
   "outputs": [],
   "source": [
    "chat1='codebasics: Hello, I am having an issue with my order # 412889912'\n",
    "chat2='codebasics: I have a problem with my order number 412889912'\n",
    "chat3='codebasics: My order 412889912 is having an issue, I was charged 300$ when online it says 280$'"
   ]
  },
  {
   "cell_type": "code",
   "execution_count": 57,
   "metadata": {},
   "outputs": [
    {
     "data": {
      "text/plain": [
       "['412889912']"
      ]
     },
     "execution_count": 57,
     "metadata": {},
     "output_type": "execute_result"
    }
   ],
   "source": [
    "order_no_pattern = 'order[^\\d]*(\\d*)'\n",
    "re.findall(order_no_pattern, chat1)"
   ]
  },
  {
   "cell_type": "code",
   "execution_count": 58,
   "metadata": {},
   "outputs": [],
   "source": [
    "elon_musk_wiki='''\n",
    "Born\tElon Reeve Musk\n",
    "June 28, 1971 (age 50)\n",
    "Pretoria, Transvaal, South Africa\n",
    "Citizenship\t\n",
    "South Africa (1971–present)\n",
    "Canada (1971–present)\n",
    "United States (2002–present)\n",
    "Education\tUniversity of Pennsylvania (BS, BA)\n",
    "Title\t\n",
    "Founder, CEO and Chief Engineer of SpaceX\n",
    "CEO and product architect of Tesla, Inc.\n",
    "Founder of The Boring Company and X.com (now part of PayPal)\n",
    "Co-founder of Neuralink, OpenAI, and Zip2\n",
    "Spouse(s)\t\n",
    "Justine Wilson\n",
    "​\n",
    "​(m. 2000; div. 2008)​\n",
    "Talulah Riley\n",
    "​\n",
    "​(m. 2010; div. 2012)​\n",
    "​\n",
    "​(m. 2013; div. 2016)\n",
    "'''"
   ]
  },
  {
   "cell_type": "code",
   "execution_count": 76,
   "metadata": {},
   "outputs": [
    {
     "data": {
      "text/plain": [
       "['50']"
      ]
     },
     "execution_count": 76,
     "metadata": {},
     "output_type": "execute_result"
    }
   ],
   "source": [
    "#age pattern\n",
    "get_pattern_match('age (\\d*)', elon_musk_wiki)"
   ]
  },
  {
   "cell_type": "code",
   "execution_count": 84,
   "metadata": {},
   "outputs": [
    {
     "data": {
      "text/plain": [
       "'Elon Reeve Musk'"
      ]
     },
     "execution_count": 84,
     "metadata": {},
     "output_type": "execute_result"
    }
   ],
   "source": [
    "#name pattern\n",
    "get_pattern_match('Born(.*)', elon_musk_wiki)[0].strip()"
   ]
  },
  {
   "cell_type": "code",
   "execution_count": 117,
   "metadata": {},
   "outputs": [
    {
     "data": {
      "text/plain": [
       "'June 28, 1971'"
      ]
     },
     "execution_count": 117,
     "metadata": {},
     "output_type": "execute_result"
    }
   ],
   "source": [
    "#birthdate pattern\n",
    "get_pattern_match('Born.*\\n(.*)\\(age', elon_musk_wiki)[0].strip()"
   ]
  },
  {
   "cell_type": "code",
   "execution_count": 132,
   "metadata": {},
   "outputs": [
    {
     "data": {
      "text/plain": [
       "['Pretoria, Transvaal, South Africa']"
      ]
     },
     "execution_count": 132,
     "metadata": {},
     "output_type": "execute_result"
    }
   ],
   "source": [
    "#birthplace pattern\n",
    "get_pattern_match('\\(age.*\\n(.*)', elon_musk_wiki)[0].strip()"
   ]
  }
 ],
 "metadata": {
  "kernelspec": {
   "display_name": "Python 3",
   "language": "python",
   "name": "python3"
  },
  "language_info": {
   "codemirror_mode": {
    "name": "ipython",
    "version": 3
   },
   "file_extension": ".py",
   "mimetype": "text/x-python",
   "name": "python",
   "nbconvert_exporter": "python",
   "pygments_lexer": "ipython3",
   "version": "3.8.8"
  },
  "orig_nbformat": 4,
  "vscode": {
   "interpreter": {
    "hash": "7c7b6dd4ff29e9d3126749e1d4e9a9e9a4efe46e425a295f98cc90e2c23a3ec5"
   }
  }
 },
 "nbformat": 4,
 "nbformat_minor": 2
}
