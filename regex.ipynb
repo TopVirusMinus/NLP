{
 "cells": [
  {
   "cell_type": "code",
   "execution_count": null,
   "metadata": {},
   "outputs": [],
   "source": []
  }
 ],
 "metadata": {
  "kernelspec": {
   "display_name": "Python 3",
   "language": "python",
   "name": "python3"
  },
  "language_info": {
   "name": "python",
   "version": "3.8.8"
  },
  "orig_nbformat": 4,
  "vscode": {
   "interpreter": {
    "hash": "7c7b6dd4ff29e9d3126749e1d4e9a9e9a4efe46e425a295f98cc90e2c23a3ec5"
   }
  }
 },
 "nbformat": 4,
 "nbformat_minor": 2
}
